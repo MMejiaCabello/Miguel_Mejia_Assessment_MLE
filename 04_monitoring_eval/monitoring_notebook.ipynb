{
 "cells": [
  {
   "cell_type": "markdown",
   "id": "464f341d",
   "metadata": {},
   "source": [
    "# Monitoring & Evaluation — Churn Model\n",
    "\n",
    "Este notebook demuestra:\n",
    "- Cálculo de métricas (Accuracy, Precision/Recall, F1, ROC AUC)\n",
    "- Detección de drift por **PSI**\n",
    "- Reglas de alerta con umbrales configurables\n",
    "- Simulación de **A/B test** y política de **rollback**"
   ]
  },
  {
   "cell_type": "code",
   "execution_count": 2,
   "id": "c5160ddb",
   "metadata": {},
   "outputs": [
    {
     "data": {
      "text/html": [
       "<div>\n",
       "<style scoped>\n",
       "    .dataframe tbody tr th:only-of-type {\n",
       "        vertical-align: middle;\n",
       "    }\n",
       "\n",
       "    .dataframe tbody tr th {\n",
       "        vertical-align: top;\n",
       "    }\n",
       "\n",
       "    .dataframe thead th {\n",
       "        text-align: right;\n",
       "    }\n",
       "</style>\n",
       "<table border=\"1\" class=\"dataframe\">\n",
       "  <thead>\n",
       "    <tr style=\"text-align: right;\">\n",
       "      <th></th>\n",
       "      <th>customer_id</th>\n",
       "      <th>age</th>\n",
       "      <th>gender</th>\n",
       "      <th>signup_date</th>\n",
       "      <th>last_purchase_date</th>\n",
       "      <th>total_purchases</th>\n",
       "      <th>avg_purchase_value</th>\n",
       "      <th>is_active</th>\n",
       "      <th>churned</th>\n",
       "    </tr>\n",
       "  </thead>\n",
       "  <tbody>\n",
       "    <tr>\n",
       "      <th>0</th>\n",
       "      <td>7602076e-427b-4c9e-bdec-181f9cf9a5ae</td>\n",
       "      <td>56</td>\n",
       "      <td>Male</td>\n",
       "      <td>2023-02-04</td>\n",
       "      <td>2025-04-01</td>\n",
       "      <td>4</td>\n",
       "      <td>251.00</td>\n",
       "      <td>1</td>\n",
       "      <td>0</td>\n",
       "    </tr>\n",
       "    <tr>\n",
       "      <th>1</th>\n",
       "      <td>95fda49f-1e60-4d2c-8f05-6db740f18a52</td>\n",
       "      <td>69</td>\n",
       "      <td>Female</td>\n",
       "      <td>2024-12-14</td>\n",
       "      <td>2025-07-10</td>\n",
       "      <td>8</td>\n",
       "      <td>155.37</td>\n",
       "      <td>1</td>\n",
       "      <td>0</td>\n",
       "    </tr>\n",
       "    <tr>\n",
       "      <th>2</th>\n",
       "      <td>ebfbf8a6-36cf-4678-bcdb-acce55a2d6ac</td>\n",
       "      <td>46</td>\n",
       "      <td>Female</td>\n",
       "      <td>2025-04-22</td>\n",
       "      <td>2025-03-26</td>\n",
       "      <td>2</td>\n",
       "      <td>299.25</td>\n",
       "      <td>1</td>\n",
       "      <td>0</td>\n",
       "    </tr>\n",
       "    <tr>\n",
       "      <th>3</th>\n",
       "      <td>c3a870d4-e33c-4640-a917-5d96e1ccb1fa</td>\n",
       "      <td>32</td>\n",
       "      <td>Female</td>\n",
       "      <td>2022-10-04</td>\n",
       "      <td>2024-11-29</td>\n",
       "      <td>4</td>\n",
       "      <td>233.66</td>\n",
       "      <td>0</td>\n",
       "      <td>0</td>\n",
       "    </tr>\n",
       "    <tr>\n",
       "      <th>4</th>\n",
       "      <td>38c4044e-4d7e-4a97-bc50-148fcc588566</td>\n",
       "      <td>60</td>\n",
       "      <td>Male</td>\n",
       "      <td>2023-01-03</td>\n",
       "      <td>2024-11-24</td>\n",
       "      <td>4</td>\n",
       "      <td>129.49</td>\n",
       "      <td>1</td>\n",
       "      <td>0</td>\n",
       "    </tr>\n",
       "  </tbody>\n",
       "</table>\n",
       "</div>"
      ],
      "text/plain": [
       "                            customer_id  age  gender signup_date  \\\n",
       "0  7602076e-427b-4c9e-bdec-181f9cf9a5ae   56    Male  2023-02-04   \n",
       "1  95fda49f-1e60-4d2c-8f05-6db740f18a52   69  Female  2024-12-14   \n",
       "2  ebfbf8a6-36cf-4678-bcdb-acce55a2d6ac   46  Female  2025-04-22   \n",
       "3  c3a870d4-e33c-4640-a917-5d96e1ccb1fa   32  Female  2022-10-04   \n",
       "4  38c4044e-4d7e-4a97-bc50-148fcc588566   60    Male  2023-01-03   \n",
       "\n",
       "  last_purchase_date  total_purchases  avg_purchase_value  is_active  churned  \n",
       "0         2025-04-01                4              251.00          1        0  \n",
       "1         2025-07-10                8              155.37          1        0  \n",
       "2         2025-03-26                2              299.25          1        0  \n",
       "3         2024-11-29                4              233.66          0        0  \n",
       "4         2024-11-24                4              129.49          1        0  "
      ]
     },
     "execution_count": 2,
     "metadata": {},
     "output_type": "execute_result"
    }
   ],
   "source": [
    "\n",
    "import pandas as pd, numpy as np\n",
    "from sklearn.model_selection import train_test_split\n",
    "from sklearn.linear_model import LogisticRegression\n",
    "from sklearn.metrics import accuracy_score, precision_score, recall_score, f1_score, roc_auc_score\n",
    "from pathlib import Path\n",
    "from drift_utils import drift_report\n",
    "from ab_test_sim import evaluate_ab, pick_winner\n",
    "\n",
    "# Cargar dataset\n",
    "data_path = Path('../01_pipeline_ml/data/clientes.csv')\n",
    "df = pd.read_csv(data_path, parse_dates=['signup_date','last_purchase_date'])\n",
    "df.head()\n"
   ]
  },
  {
   "cell_type": "markdown",
   "id": "8fef49fe",
   "metadata": {},
   "source": [
    "## 1) Entrenamiento rápido y métricas baseline"
   ]
  },
  {
   "cell_type": "code",
   "execution_count": 3,
   "id": "504b84f4",
   "metadata": {},
   "outputs": [
    {
     "name": "stderr",
     "output_type": "stream",
     "text": [
      "/opt/conda/lib/python3.10/site-packages/sklearn/metrics/_classification.py:1706: UndefinedMetricWarning: Precision is ill-defined and being set to 0.0 due to no predicted samples. Use `zero_division` parameter to control this behavior.\n",
      "  _warn_prf(average, modifier, f\"{metric.capitalize()} is\", result.shape[0])\n"
     ]
    },
    {
     "data": {
      "text/plain": [
       "{'accuracy': 0.696,\n",
       " 'precision': 0.0,\n",
       " 'recall': 0.0,\n",
       " 'f1': 0.0,\n",
       " 'roc_auc': 0.49776389046430736}"
      ]
     },
     "execution_count": 3,
     "metadata": {},
     "output_type": "execute_result"
    }
   ],
   "source": [
    "\n",
    "drop_cols = [\"customer_id\",\"signup_date\",\"last_purchase_date\",\"churned\"]\n",
    "features = [c for c in df.columns if c not in drop_cols]\n",
    "X = pd.get_dummies(df[features], drop_first=True)\n",
    "y = df[\"churned\"].astype(int)\n",
    "\n",
    "X_tr, X_te, y_tr, y_te = train_test_split(X, y, test_size=0.2, random_state=42, stratify=y)\n",
    "clf = LogisticRegression(max_iter=1000).fit(X_tr, y_tr)\n",
    "\n",
    "proba = clf.predict_proba(X_te)[:,1]\n",
    "pred = (proba>=0.5).astype(int)\n",
    "\n",
    "baseline = {\n",
    "    \"accuracy\": accuracy_score(y_te, pred),\n",
    "    \"precision\": precision_score(y_te, pred),\n",
    "    \"recall\": recall_score(y_te, pred),\n",
    "    \"f1\": f1_score(y_te, pred),\n",
    "    \"roc_auc\": roc_auc_score(y_te, proba)\n",
    "}\n",
    "baseline\n"
   ]
  },
  {
   "cell_type": "markdown",
   "id": "73950d9e",
   "metadata": {},
   "source": [
    "## 2) Simulación de batch actual + PSI (drift)"
   ]
  },
  {
   "cell_type": "code",
   "execution_count": 4,
   "id": "6bb327ba",
   "metadata": {},
   "outputs": [
    {
     "data": {
      "text/plain": [
       "{'age': 0.06348075671324314,\n",
       " 'total_purchases': 0.09251669238362899,\n",
       " 'avg_purchase_value': 0.03434932629273072,\n",
       " 'is_active': 3.596483784516973}"
      ]
     },
     "execution_count": 4,
     "metadata": {},
     "output_type": "execute_result"
    }
   ],
   "source": [
    "\n",
    "# Simular drift en numéricos\n",
    "df_cur = df.copy()\n",
    "num_cols = df_cur.select_dtypes(include=['int64','float64','int32','float32']).columns.tolist()\n",
    "num_cols = [c for c in num_cols if c not in ['churned']]\n",
    "np.random.seed(0)\n",
    "for c in num_cols:\n",
    "    df_cur[c] = df_cur[c] * (1 + 0.2*np.random.randn(len(df_cur)))\n",
    "\n",
    "psi = drift_report(df[num_cols], df_cur[num_cols], features=num_cols)\n",
    "psi\n"
   ]
  },
  {
   "cell_type": "markdown",
   "id": "8caf18da",
   "metadata": {},
   "source": [
    "### Gráfico simple PSI por feature"
   ]
  },
  {
   "cell_type": "code",
   "execution_count": 5,
   "id": "a716b585",
   "metadata": {},
   "outputs": [
    {
     "data": {
      "image/png": "[encoded data removed]",
      "text/plain": [
       "<Figure size 640x480 with 1 Axes>"
      ]
     },
     "metadata": {},
     "output_type": "display_data"
    }
   ],
   "source": [
    "\n",
    "import matplotlib.pyplot as plt\n",
    "\n",
    "items = sorted(psi.items(), key=lambda kv: kv[1] if kv[1] is not None else -1)\n",
    "labels = [k for k,_ in items]\n",
    "values = [v for _,v in items]\n",
    "\n",
    "plt.figure()\n",
    "plt.bar(labels, values)\n",
    "plt.xticks(rotation=45, ha='right')\n",
    "plt.title('PSI por feature')\n",
    "plt.ylabel('PSI')\n",
    "plt.tight_layout()\n",
    "plt.show()\n"
   ]
  },
  {
   "cell_type": "markdown",
   "id": "e1fe4252",
   "metadata": {},
   "source": [
    "## 3) Reglas de alerta"
   ]
  },
  {
   "cell_type": "code",
   "execution_count": 6,
   "id": "c8027032",
   "metadata": {},
   "outputs": [
    {
     "data": {
      "text/plain": [
       "['ROC AUC baseline 0.498 < 0.75', 'PSI severo en: is_active']"
      ]
     },
     "execution_count": 6,
     "metadata": {},
     "output_type": "execute_result"
    }
   ],
   "source": [
    "\n",
    "AUC_MIN = 0.75\n",
    "AUC_DROP_WARN = 0.05\n",
    "PSI_WARN = 0.1\n",
    "PSI_SEV = 0.25\n",
    "\n",
    "alerts = []\n",
    "if baseline['roc_auc'] < AUC_MIN:\n",
    "    alerts.append(f\"ROC AUC baseline {baseline['roc_auc']:.3f} < {AUC_MIN:.2f}\")\n",
    "\n",
    "sev = [k for k,v in psi.items() if v is not None and v>PSI_SEV]\n",
    "mod = [k for k,v in psi.items() if v is not None and PSI_WARN<=v<=PSI_SEV]\n",
    "if sev: alerts.append('PSI severo en: ' + ', '.join(sev))\n",
    "if mod: alerts.append('PSI moderado en: ' + ', '.join(mod))\n",
    "alerts\n"
   ]
  },
  {
   "cell_type": "markdown",
   "id": "262c0ac1",
   "metadata": {},
   "source": [
    "## 4) A/B Test (simulación)"
   ]
  },
  {
   "cell_type": "code",
   "execution_count": 7,
   "id": "69d1d172",
   "metadata": {},
   "outputs": [
    {
     "data": {
      "text/plain": [
       "({'v1': {'accuracy': 0.696, 'f1': 0.0, 'roc_auc': 0.48390710072595283},\n",
       "  'v2': {'accuracy': 0.696, 'f1': 0.0, 'roc_auc': 0.5206927272383546}},\n",
       " 'v2')"
      ]
     },
     "execution_count": 7,
     "metadata": {},
     "output_type": "execute_result"
    }
   ],
   "source": [
    "\n",
    "# Crear dos variantes simuladas a partir de proba con ligeras perturbaciones\n",
    "rng = np.random.RandomState(42)\n",
    "y_true = y_te.values\n",
    "y_proba_v1 = np.clip(proba + rng.normal(0, 0.02, size=len(proba)), 0, 1)\n",
    "y_pred_v1 = (y_proba_v1>=0.5).astype(int)\n",
    "\n",
    "y_proba_v2 = np.clip(proba + rng.normal(0.01, 0.02, size=len(proba)), 0, 1)\n",
    "y_pred_v2 = (y_proba_v2>=0.5).astype(int)\n",
    "\n",
    "import pandas as pd\n",
    "df_ab = pd.DataFrame({\n",
    "    'y_true': y_true,\n",
    "    'y_proba_v1': y_proba_v1,\n",
    "    'y_pred_v1': y_pred_v1,\n",
    "    'y_proba_v2': y_proba_v2,\n",
    "    'y_pred_v2': y_pred_v2,\n",
    "})\n",
    "\n",
    "res = evaluate_ab(df_ab)\n",
    "winner = pick_winner(res, primary='roc_auc', secondary='f1')\n",
    "res, winner\n"
   ]
  },
  {
   "cell_type": "markdown",
   "id": "49391176",
   "metadata": {},
   "source": [
    "## 5) Política de Rollback\n",
    "- Si hay **PSI severo** en ≥2 features o **AUC** cae ≥10% vs. baseline → **Rollback a versión previa**.\n",
    "- En Vertex AI: ajustar **traffic split** del Endpoint al modelo anterior mientras se reentrena."
   ]
  }
 ],
 "metadata": {
  "environment": {
   "kernel": "conda-base-py",
   "name": "workbench-notebooks.m130",
   "type": "gcloud",
   "uri": "us-docker.pkg.dev/deeplearning-platform-release/gcr.io/workbench-notebooks:m130"
  },
  "kernelspec": {
   "display_name": "Python 3 (ipykernel) (Local)",
   "language": "python",
   "name": "conda-base-py"
  },
  "language_info": {
   "codemirror_mode": {
    "name": "ipython",
    "version": 3
   },
   "file_extension": ".py",
   "mimetype": "text/x-python",
   "name": "python",
   "nbconvert_exporter": "python",
   "pygments_lexer": "ipython3",
   "version": "3.10.18"
  }
 },
 "nbformat": 4,
 "nbformat_minor": 5
}
